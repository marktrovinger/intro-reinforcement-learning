{
 "cells": [
  {
   "cell_type": "markdown",
   "id": "placed-harvard",
   "metadata": {},
   "source": [
    "# Multi-armed Bandits\n",
    "\n",
    "This notebook will implement the the algorithms introduced in Chapter 2, along with recreating the plots that are displayed in the book. Credit for the idea to do this project goes to TODO."
   ]
  },
  {
   "cell_type": "code",
   "execution_count": null,
   "id": "specific-reconstruction",
   "metadata": {},
   "outputs": [],
   "source": []
  }
 ],
 "metadata": {
  "kernelspec": {
   "display_name": "Python 3",
   "language": "python",
   "name": "python3"
  },
  "language_info": {
   "codemirror_mode": {
    "name": "ipython",
    "version": 3
   },
   "file_extension": ".py",
   "mimetype": "text/x-python",
   "name": "python",
   "nbconvert_exporter": "python",
   "pygments_lexer": "ipython3",
   "version": "3.6.13"
  }
 },
 "nbformat": 4,
 "nbformat_minor": 5
}
